{
 "cells": [
  {
   "cell_type": "code",
   "execution_count": 8,
   "metadata": {},
   "outputs": [],
   "source": [
    "import numpy as np\n",
    "import pandas as pd\n",
    "import matplotlib.pyplot as plt\n",
    "import seaborn as sns"
   ]
  },
  {
   "cell_type": "code",
   "execution_count": 2,
   "metadata": {},
   "outputs": [],
   "source": [
    "data = pd.read_csv('Datafiniti_Womens_Shoes.csv')"
   ]
  },
  {
   "cell_type": "code",
   "execution_count": 3,
   "metadata": {},
   "outputs": [
    {
     "data": {
      "text/html": [
       "<div>\n",
       "<style scoped>\n",
       "    .dataframe tbody tr th:only-of-type {\n",
       "        vertical-align: middle;\n",
       "    }\n",
       "\n",
       "    .dataframe tbody tr th {\n",
       "        vertical-align: top;\n",
       "    }\n",
       "\n",
       "    .dataframe thead th {\n",
       "        text-align: right;\n",
       "    }\n",
       "</style>\n",
       "<table border=\"1\" class=\"dataframe\">\n",
       "  <thead>\n",
       "    <tr style=\"text-align: right;\">\n",
       "      <th></th>\n",
       "      <th>id</th>\n",
       "      <th>dateAdded</th>\n",
       "      <th>dateUpdated</th>\n",
       "      <th>asins</th>\n",
       "      <th>brand</th>\n",
       "      <th>categories</th>\n",
       "      <th>primaryCategories</th>\n",
       "      <th>colors</th>\n",
       "      <th>dimension</th>\n",
       "      <th>ean</th>\n",
       "      <th>...</th>\n",
       "      <th>prices.merchant</th>\n",
       "      <th>prices.offer</th>\n",
       "      <th>prices.returnPolicy</th>\n",
       "      <th>prices.shipping</th>\n",
       "      <th>prices.size</th>\n",
       "      <th>prices.sourceURLs</th>\n",
       "      <th>sizes</th>\n",
       "      <th>sourceURLs</th>\n",
       "      <th>upc</th>\n",
       "      <th>weight</th>\n",
       "    </tr>\n",
       "  </thead>\n",
       "  <tbody>\n",
       "    <tr>\n",
       "      <th>0</th>\n",
       "      <td>AVpfEf_hLJeJML431ueH</td>\n",
       "      <td>2015-05-04T12:13:08Z</td>\n",
       "      <td>2018-01-29T04:38:43Z</td>\n",
       "      <td>NaN</td>\n",
       "      <td>Naturalizer</td>\n",
       "      <td>Clothing,Shoes,Women's Shoes,All Women's Shoes...</td>\n",
       "      <td>Shoes</td>\n",
       "      <td>Silver,Cream Watercolor Floral</td>\n",
       "      <td>NaN</td>\n",
       "      <td>NaN</td>\n",
       "      <td>...</td>\n",
       "      <td>Overstock.com</td>\n",
       "      <td>NaN</td>\n",
       "      <td>NaN</td>\n",
       "      <td>NaN</td>\n",
       "      <td>S</td>\n",
       "      <td>https://www.overstock.com/Clothing-Shoes/Women...</td>\n",
       "      <td>6W,9W,7.5W,12W,8.5M,9N,9M,9.5M,10.5M,10W,8.5W,...</td>\n",
       "      <td>https://www.walmart.com/ip/Naturalizer-Danya-W...</td>\n",
       "      <td>017136472311</td>\n",
       "      <td>NaN</td>\n",
       "    </tr>\n",
       "    <tr>\n",
       "      <th>1</th>\n",
       "      <td>AVpi74XfLJeJML43qZAc</td>\n",
       "      <td>2017-01-27T01:23:39Z</td>\n",
       "      <td>2018-01-03T05:21:54Z</td>\n",
       "      <td>NaN</td>\n",
       "      <td>MUK LUKS</td>\n",
       "      <td>Clothing,Shoes,Women's Shoes,Women's Casual Sh...</td>\n",
       "      <td>Shoes</td>\n",
       "      <td>Grey</td>\n",
       "      <td>NaN</td>\n",
       "      <td>3.397705e+10</td>\n",
       "      <td>...</td>\n",
       "      <td>Walmart.com</td>\n",
       "      <td>NaN</td>\n",
       "      <td>NaN</td>\n",
       "      <td>Standard</td>\n",
       "      <td>6</td>\n",
       "      <td>https://www.walmart.com/ip/MUK-LUKS-Womens-Jan...</td>\n",
       "      <td>10,7,6,9,8</td>\n",
       "      <td>https://www.walmart.com/ip/MUK-LUKS-Womens-Jan...</td>\n",
       "      <td>033977045743</td>\n",
       "      <td>NaN</td>\n",
       "    </tr>\n",
       "    <tr>\n",
       "      <th>2</th>\n",
       "      <td>AVpi74XfLJeJML43qZAc</td>\n",
       "      <td>2017-01-27T01:23:39Z</td>\n",
       "      <td>2018-01-03T05:21:54Z</td>\n",
       "      <td>NaN</td>\n",
       "      <td>MUK LUKS</td>\n",
       "      <td>Clothing,Shoes,Women's Shoes,Women's Casual Sh...</td>\n",
       "      <td>Shoes</td>\n",
       "      <td>Grey</td>\n",
       "      <td>NaN</td>\n",
       "      <td>3.397705e+10</td>\n",
       "      <td>...</td>\n",
       "      <td>Slippers Dot Com</td>\n",
       "      <td>NaN</td>\n",
       "      <td>NaN</td>\n",
       "      <td>Value</td>\n",
       "      <td>6</td>\n",
       "      <td>https://www.walmart.com/ip/MUK-LUKS-Womens-Jan...</td>\n",
       "      <td>10,7,6,9,8</td>\n",
       "      <td>https://www.walmart.com/ip/MUK-LUKS-Womens-Jan...</td>\n",
       "      <td>033977045743</td>\n",
       "      <td>NaN</td>\n",
       "    </tr>\n",
       "    <tr>\n",
       "      <th>3</th>\n",
       "      <td>AVpjXyCc1cnluZ0-V-Gj</td>\n",
       "      <td>2017-01-27T01:25:56Z</td>\n",
       "      <td>2018-01-04T11:52:35Z</td>\n",
       "      <td>NaN</td>\n",
       "      <td>MUK LUKS</td>\n",
       "      <td>Clothing,Shoes,Women's Shoes,All Women's Shoes...</td>\n",
       "      <td>Shoes,Shoes</td>\n",
       "      <td>Black</td>\n",
       "      <td>6.0 in x 6.0 in x 1.0 in</td>\n",
       "      <td>3.397705e+10</td>\n",
       "      <td>...</td>\n",
       "      <td>Slippers Dot Com</td>\n",
       "      <td>NaN</td>\n",
       "      <td>NaN</td>\n",
       "      <td>Value</td>\n",
       "      <td>6</td>\n",
       "      <td>https://www.walmart.com/ip/MUK-LUKS-Womens-Daw...</td>\n",
       "      <td>10,7,6,9,8</td>\n",
       "      <td>https://www.walmart.com/ip/MUK-LUKS-Womens-Daw...</td>\n",
       "      <td>033977045903</td>\n",
       "      <td>NaN</td>\n",
       "    </tr>\n",
       "    <tr>\n",
       "      <th>4</th>\n",
       "      <td>AVphGKLPilAPnD_x1Nrm</td>\n",
       "      <td>2017-01-27T01:25:56Z</td>\n",
       "      <td>2018-01-18T03:55:18Z</td>\n",
       "      <td>NaN</td>\n",
       "      <td>MUK LUKS</td>\n",
       "      <td>Clothing,Shoes,Women's Shoes,All Women's Shoes...</td>\n",
       "      <td>Shoes</td>\n",
       "      <td>Grey</td>\n",
       "      <td>6.0 in x 6.0 in x 1.0 in</td>\n",
       "      <td>3.397705e+10</td>\n",
       "      <td>...</td>\n",
       "      <td>Walmart.com</td>\n",
       "      <td>NaN</td>\n",
       "      <td>NaN</td>\n",
       "      <td>Expedited</td>\n",
       "      <td>6</td>\n",
       "      <td>https://www.walmart.com/ip/MUK-LUKS-Womens-Daw...</td>\n",
       "      <td>10,7,6,9,8</td>\n",
       "      <td>https://www.walmart.com/ip/MUK-LUKS-Womens-Daw...</td>\n",
       "      <td>033977045958</td>\n",
       "      <td>NaN</td>\n",
       "    </tr>\n",
       "  </tbody>\n",
       "</table>\n",
       "<p>5 rows × 34 columns</p>\n",
       "</div>"
      ],
      "text/plain": [
       "                     id             dateAdded           dateUpdated asins  \\\n",
       "0  AVpfEf_hLJeJML431ueH  2015-05-04T12:13:08Z  2018-01-29T04:38:43Z   NaN   \n",
       "1  AVpi74XfLJeJML43qZAc  2017-01-27T01:23:39Z  2018-01-03T05:21:54Z   NaN   \n",
       "2  AVpi74XfLJeJML43qZAc  2017-01-27T01:23:39Z  2018-01-03T05:21:54Z   NaN   \n",
       "3  AVpjXyCc1cnluZ0-V-Gj  2017-01-27T01:25:56Z  2018-01-04T11:52:35Z   NaN   \n",
       "4  AVphGKLPilAPnD_x1Nrm  2017-01-27T01:25:56Z  2018-01-18T03:55:18Z   NaN   \n",
       "\n",
       "         brand                                         categories  \\\n",
       "0  Naturalizer  Clothing,Shoes,Women's Shoes,All Women's Shoes...   \n",
       "1     MUK LUKS  Clothing,Shoes,Women's Shoes,Women's Casual Sh...   \n",
       "2     MUK LUKS  Clothing,Shoes,Women's Shoes,Women's Casual Sh...   \n",
       "3     MUK LUKS  Clothing,Shoes,Women's Shoes,All Women's Shoes...   \n",
       "4     MUK LUKS  Clothing,Shoes,Women's Shoes,All Women's Shoes...   \n",
       "\n",
       "  primaryCategories                          colors                 dimension  \\\n",
       "0             Shoes  Silver,Cream Watercolor Floral                       NaN   \n",
       "1             Shoes                            Grey                       NaN   \n",
       "2             Shoes                            Grey                       NaN   \n",
       "3       Shoes,Shoes                           Black  6.0 in x 6.0 in x 1.0 in   \n",
       "4             Shoes                            Grey  6.0 in x 6.0 in x 1.0 in   \n",
       "\n",
       "            ean  ...   prices.merchant prices.offer prices.returnPolicy  \\\n",
       "0           NaN  ...     Overstock.com          NaN                 NaN   \n",
       "1  3.397705e+10  ...       Walmart.com          NaN                 NaN   \n",
       "2  3.397705e+10  ...  Slippers Dot Com          NaN                 NaN   \n",
       "3  3.397705e+10  ...  Slippers Dot Com          NaN                 NaN   \n",
       "4  3.397705e+10  ...       Walmart.com          NaN                 NaN   \n",
       "\n",
       "  prices.shipping prices.size  \\\n",
       "0             NaN           S   \n",
       "1        Standard           6   \n",
       "2           Value           6   \n",
       "3           Value           6   \n",
       "4       Expedited           6   \n",
       "\n",
       "                                   prices.sourceURLs  \\\n",
       "0  https://www.overstock.com/Clothing-Shoes/Women...   \n",
       "1  https://www.walmart.com/ip/MUK-LUKS-Womens-Jan...   \n",
       "2  https://www.walmart.com/ip/MUK-LUKS-Womens-Jan...   \n",
       "3  https://www.walmart.com/ip/MUK-LUKS-Womens-Daw...   \n",
       "4  https://www.walmart.com/ip/MUK-LUKS-Womens-Daw...   \n",
       "\n",
       "                                               sizes  \\\n",
       "0  6W,9W,7.5W,12W,8.5M,9N,9M,9.5M,10.5M,10W,8.5W,...   \n",
       "1                                         10,7,6,9,8   \n",
       "2                                         10,7,6,9,8   \n",
       "3                                         10,7,6,9,8   \n",
       "4                                         10,7,6,9,8   \n",
       "\n",
       "                                          sourceURLs           upc weight  \n",
       "0  https://www.walmart.com/ip/Naturalizer-Danya-W...  017136472311    NaN  \n",
       "1  https://www.walmart.com/ip/MUK-LUKS-Womens-Jan...  033977045743    NaN  \n",
       "2  https://www.walmart.com/ip/MUK-LUKS-Womens-Jan...  033977045743    NaN  \n",
       "3  https://www.walmart.com/ip/MUK-LUKS-Womens-Daw...  033977045903    NaN  \n",
       "4  https://www.walmart.com/ip/MUK-LUKS-Womens-Daw...  033977045958    NaN  \n",
       "\n",
       "[5 rows x 34 columns]"
      ]
     },
     "execution_count": 3,
     "metadata": {},
     "output_type": "execute_result"
    }
   ],
   "source": [
    "data.head()"
   ]
  },
  {
   "cell_type": "code",
   "execution_count": 7,
   "metadata": {},
   "outputs": [
    {
     "name": "stdout",
     "output_type": "stream",
     "text": [
      "['id' 'dateAdded' 'dateUpdated' 'asins' 'brand' 'categories'\n",
      " 'primaryCategories' 'colors' 'dimension' 'ean' 'imageURLs' 'keys'\n",
      " 'manufacturer' 'manufacturerNumber' 'name' 'prices.amountMax'\n",
      " 'prices.amountMin' 'prices.availability' 'prices.color'\n",
      " 'prices.condition' 'prices.currency' 'prices.dateAdded' 'prices.dateSeen'\n",
      " 'prices.isSale' 'prices.merchant' 'prices.offer' 'prices.returnPolicy'\n",
      " 'prices.shipping' 'prices.size' 'prices.sourceURLs' 'sizes' 'sourceURLs'\n",
      " 'upc' 'weight']\n"
     ]
    }
   ],
   "source": [
    "print(data.columns.values)"
   ]
  },
  {
   "cell_type": "code",
   "execution_count": 10,
   "metadata": {},
   "outputs": [
    {
     "data": {
      "text/plain": [
       "(10000, 34)"
      ]
     },
     "execution_count": 10,
     "metadata": {},
     "output_type": "execute_result"
    }
   ],
   "source": [
    "data.shape"
   ]
  },
  {
   "cell_type": "code",
   "execution_count": 11,
   "metadata": {},
   "outputs": [
    {
     "name": "stdout",
     "output_type": "stream",
     "text": [
      "<class 'pandas.core.frame.DataFrame'>\n",
      "RangeIndex: 10000 entries, 0 to 9999\n",
      "Data columns (total 34 columns):\n",
      "id                     10000 non-null object\n",
      "dateAdded              10000 non-null object\n",
      "dateUpdated            10000 non-null object\n",
      "asins                  3 non-null object\n",
      "brand                  10000 non-null object\n",
      "categories             10000 non-null object\n",
      "primaryCategories      10000 non-null object\n",
      "colors                 2631 non-null object\n",
      "dimension              117 non-null object\n",
      "ean                    671 non-null float64\n",
      "imageURLs              10000 non-null object\n",
      "keys                   10000 non-null object\n",
      "manufacturer           527 non-null object\n",
      "manufacturerNumber     2482 non-null object\n",
      "name                   10000 non-null object\n",
      "prices.amountMax       10000 non-null float64\n",
      "prices.amountMin       10000 non-null float64\n",
      "prices.availability    434 non-null object\n",
      "prices.color           10000 non-null object\n",
      "prices.condition       438 non-null object\n",
      "prices.currency        10000 non-null object\n",
      "prices.dateAdded       9223 non-null object\n",
      "prices.dateSeen        10000 non-null object\n",
      "prices.isSale          10000 non-null bool\n",
      "prices.merchant        435 non-null object\n",
      "prices.offer           121 non-null object\n",
      "prices.returnPolicy    0 non-null float64\n",
      "prices.shipping        412 non-null object\n",
      "prices.size            10000 non-null object\n",
      "prices.sourceURLs      10000 non-null object\n",
      "sizes                  10000 non-null object\n",
      "sourceURLs             10000 non-null object\n",
      "upc                    9640 non-null object\n",
      "weight                 299 non-null object\n",
      "dtypes: bool(1), float64(4), object(29)\n",
      "memory usage: 2.5+ MB\n"
     ]
    }
   ],
   "source": [
    "data.info()"
   ]
  },
  {
   "cell_type": "code",
   "execution_count": 14,
   "metadata": {},
   "outputs": [
    {
     "data": {
      "text/plain": [
       "0"
      ]
     },
     "execution_count": 14,
     "metadata": {},
     "output_type": "execute_result"
    }
   ],
   "source": [
    "data.duplicated().sum()"
   ]
  },
  {
   "cell_type": "code",
   "execution_count": 20,
   "metadata": {},
   "outputs": [
    {
     "data": {
      "text/html": [
       "<div>\n",
       "<style scoped>\n",
       "    .dataframe tbody tr th:only-of-type {\n",
       "        vertical-align: middle;\n",
       "    }\n",
       "\n",
       "    .dataframe tbody tr th {\n",
       "        vertical-align: top;\n",
       "    }\n",
       "\n",
       "    .dataframe thead th {\n",
       "        text-align: right;\n",
       "    }\n",
       "</style>\n",
       "<table border=\"1\" class=\"dataframe\">\n",
       "  <thead>\n",
       "    <tr style=\"text-align: right;\">\n",
       "      <th></th>\n",
       "      <th>ean</th>\n",
       "      <th>prices.amountMax</th>\n",
       "      <th>prices.amountMin</th>\n",
       "      <th>prices.returnPolicy</th>\n",
       "    </tr>\n",
       "  </thead>\n",
       "  <tbody>\n",
       "    <tr>\n",
       "      <th>count</th>\n",
       "      <td>6.710000e+02</td>\n",
       "      <td>10000.000000</td>\n",
       "      <td>10000.000000</td>\n",
       "      <td>0.0</td>\n",
       "    </tr>\n",
       "    <tr>\n",
       "      <th>mean</th>\n",
       "      <td>7.714302e+11</td>\n",
       "      <td>69.223544</td>\n",
       "      <td>51.131209</td>\n",
       "      <td>NaN</td>\n",
       "    </tr>\n",
       "    <tr>\n",
       "      <th>std</th>\n",
       "      <td>1.847119e+11</td>\n",
       "      <td>19.487286</td>\n",
       "      <td>21.267446</td>\n",
       "      <td>NaN</td>\n",
       "    </tr>\n",
       "    <tr>\n",
       "      <th>min</th>\n",
       "      <td>3.397705e+10</td>\n",
       "      <td>5.870000</td>\n",
       "      <td>4.880000</td>\n",
       "      <td>NaN</td>\n",
       "    </tr>\n",
       "    <tr>\n",
       "      <th>25%</th>\n",
       "      <td>7.276810e+11</td>\n",
       "      <td>59.990000</td>\n",
       "      <td>37.490000</td>\n",
       "      <td>NaN</td>\n",
       "    </tr>\n",
       "    <tr>\n",
       "      <th>50%</th>\n",
       "      <td>8.701910e+11</td>\n",
       "      <td>64.990000</td>\n",
       "      <td>49.990000</td>\n",
       "      <td>NaN</td>\n",
       "    </tr>\n",
       "    <tr>\n",
       "      <th>75%</th>\n",
       "      <td>8.860660e+11</td>\n",
       "      <td>79.990000</td>\n",
       "      <td>59.990000</td>\n",
       "      <td>NaN</td>\n",
       "    </tr>\n",
       "    <tr>\n",
       "      <th>max</th>\n",
       "      <td>8.898850e+11</td>\n",
       "      <td>359.950000</td>\n",
       "      <td>359.950000</td>\n",
       "      <td>NaN</td>\n",
       "    </tr>\n",
       "  </tbody>\n",
       "</table>\n",
       "</div>"
      ],
      "text/plain": [
       "                ean  prices.amountMax  prices.amountMin  prices.returnPolicy\n",
       "count  6.710000e+02      10000.000000      10000.000000                  0.0\n",
       "mean   7.714302e+11         69.223544         51.131209                  NaN\n",
       "std    1.847119e+11         19.487286         21.267446                  NaN\n",
       "min    3.397705e+10          5.870000          4.880000                  NaN\n",
       "25%    7.276810e+11         59.990000         37.490000                  NaN\n",
       "50%    8.701910e+11         64.990000         49.990000                  NaN\n",
       "75%    8.860660e+11         79.990000         59.990000                  NaN\n",
       "max    8.898850e+11        359.950000        359.950000                  NaN"
      ]
     },
     "execution_count": 20,
     "metadata": {},
     "output_type": "execute_result"
    }
   ],
   "source": [
    "data.describe()"
   ]
  },
  {
   "cell_type": "code",
   "execution_count": 33,
   "metadata": {},
   "outputs": [
    {
     "name": "stdout",
     "output_type": "stream",
     "text": [
      "['Naturalizer' 'MUK LUKS' 'Soft Ones' 'muk luks' 'Sloggers' \"Dr. Scholl's\"\n",
      " 'Genuine Dickies' 'Mo Mo' 'SKECHERS' 'lc lauren conrad' 'FOREVER YOUNG'\n",
      " 'Unbranded' 'Faded Glory' 'qupid' 'olivia miller' 'Victoria K.' 'Keds'\n",
      " 'herstar' 'Earth Spirit' 'Unique Bargains' 'lifestride'\n",
      " 'naturalsoul by naturalizer' 'Lugz' 'lugz'\n",
      " 'style charles by charles david' 'nyla' 'Daniel Green' 'corkys'\n",
      " 'IB Non-Slip' 'Silver Lilly' 'ELLIE SHOES' 'SoftWalk' 'Brinley Co.' 'MLB'\n",
      " 'easy street' 'Danskin Now' 'forever collectibles' 'Carrini' 'Riverberry'\n",
      " 'journee collection' 'eastland' 'so' 'dolce by mojo moxy' 'under armour'\n",
      " 'koolaburra by ugg' 'skechers' 'puma' 'adidas' 'new balance' 'rampage'\n",
      " 'vans' 'croft barrow' 'candies' 'simply vera vera wang' 'apt. 9'\n",
      " 'jennifer lopez' 'sonoma goods for life' 'soft style by hush puppies'\n",
      " 'keds' 'Laredo' 'rocky 4eursole' 'ryka' 'dr. scholls' 'Ryka' 'Lifestride'\n",
      " 'Fergalicious' 'fila' 'a2 by aerosoles' 'henry ferrera' 'andrew geller'\n",
      " 'nike' 'spring step' 'seven7' 'Brinley Co. Collection' 'madden nyc'\n",
      " 'Easy Street' 'Nike' 'betula by birkenstock' 'kisses by 2 lips too'\n",
      " '2 lips too' 'reef' 'unionbay' 'k-swiss' 'sugar' 'clarks' 'asics'\n",
      " 'La Sportiva' \"Arc'teryx\" 'Topo Athletic' 'Chaco' 'Scarpa' 'Soludos'\n",
      " 'New Balance' 'Birkenstock' 'Splendid' 'Native Shoes' 'Brooks' 'Merrell'\n",
      " 'Salomon' 'Asics' 'Saucony' 'Red Wing' 'Altra' 'Adidas' 'Frye'\n",
      " 'Under Armour' 'Adidas Outdoor' 'SeaVees' 'Seychelles Footwear'\n",
      " 'The North Face' 'On Footwear' 'Hoka One One' 'Mammut' 'Inov 8' 'Salewa'\n",
      " 'Toms' 'Vans' 'UGG' 'Astral' 'Timberland' 'Olukai' 'KEEN' 'Dansko'\n",
      " 'Free People' 'Sperry Top-Sider' 'Bogs' 'Lowa' 'Kaanas' 'OTZShoes']\n",
      "The total number of brands in the dataset are:129\n"
     ]
    }
   ],
   "source": [
    "brands = data['brand'].unique()\n",
    "print(brands)\n",
    "print('The total number of brands in the dataset are:'+ str(len(brands)))"
   ]
  },
  {
   "cell_type": "code",
   "execution_count": 34,
   "metadata": {},
   "outputs": [
    {
     "data": {
      "text/plain": [
       "array([\"Clothing,Shoes,Women's Shoes,All Women's Shoes,Heels,Sandals\",\n",
       "       \"Clothing,Shoes,Women's Shoes,Women's Casual Shoes,All Women's Shoes\",\n",
       "       \"Clothing,Shoes,Women's Shoes,All Women's Shoes,Women's Slippers\",\n",
       "       \"Womens Shoes,Clothing,Women's Shoes,Baby & Kids Shoes,Baby & Toddler Shoes,All Womens Shoes,Shoes,All Women's Shoes\",\n",
       "       \"MUK LUKS,Womens,Women's Casual Shoes,Clothing,Women's Shoes,Women's Slippers,Slippers,Shoes,All Women's Shoes\",\n",
       "       \"Clothing,Shoes,Women's Shoes,All Women's Shoes\",\n",
       "       \"Clothing,Shoes,Women's Shoes,Women's Winter Boots,All Women's Shoes,Women's Boots\",\n",
       "       \"Clothing,Shoes,Women's Shoes,All Women's Shoes,Women's Boots\",\n",
       "       \"Womens,Shoes,Sandals,MUK LUKS,Clothing,Women's Shoes,All Women's Shoes\",\n",
       "       \"Womens Shoes,Clothing,Women's Shoes,All Womens Shoes,Shoes,All Women's Shoes\",\n",
       "       \"Clothing,Shoes,Women's Shoes,Women's Dress Shoes,All Women's Shoes,Home Improvement,Work Safety Clothing and Equipment\",\n",
       "       \"Clothing,Shoes,Women's Shoes,All Women's Shoes,Women's Casual Shoes,Women's Slippers\",\n",
       "       \"Womens,Sneakers,Womens Casual Shoes,Womens Shoes,Clothing,Women's Shoes,Shoes,Athletic Shoes,Skechers,All Women's Shoes\",\n",
       "       \"Sneakers,Womens Shoes,Clothing,Work Safety Clothing and Equipment,Shoes,Skechers,All Women's Shoes,Womens,Women's Shoes,Home Improvement,All Womens Shoes,Athletic Shoes,Women's Work & Safety Shoes\",\n",
       "       \"Womens,Womens Shoes,Clothing,Women's Shoes,All Womens Shoes,Shoes,Sandals,Skechers,All Women's Shoes\",\n",
       "       \"Womens,Clothing,Women's Shoes,Boots,Shoes,Skechers,All Women's Shoes\",\n",
       "       \"Sneakers,Women's Athletic Shoes,Womens Shoes,Clothing,Shoes,Skechers,All Women's Shoes,Womens,Women's Casual Shoes,Womens Casual Shoes,Women's Shoes,All Womens Shoes,Athletic Shoes\",\n",
       "       \"Womens,Women's Casual Shoes,Sneakers,Womens Casual Shoes,Womens Shoes,Clothing,Women's Shoes,Shoes,Athletic Shoes,Skechers\",\n",
       "       'Womens,Shoes,Boots,LC Lauren Conrad',\n",
       "       \"Clothing,Shoes,Women's Shoes,All Women's Shoes,Home Improvement,Work Safety Clothing and Equipment\",\n",
       "       \"Women's Casual Shoes,Womens Casual Shoes,Womens Shoes,Clothing,Women's Shoes,Shoes,All Women's Shoes\",\n",
       "       \"Clothing,Shoes,Womens Shoes,Womens Casual Shoes,Women's Shoes,Women's Casual Shoes,All Women's Shoes\",\n",
       "       'Womens,Shoes,Sandals,Qupid', 'Womens,Shoes,Boots,Qupid',\n",
       "       'Womens,Shoes,Boots,Olivia Miller',\n",
       "       \"Clothing,Shoes,Women's Shoes,Women's Casual Shoes,Womens,Boat Shoes,Keds\",\n",
       "       'Womens,Shoes,Pumps,Heels,Herstar',\n",
       "       'Womens,Shoes,Boots,LifeStride',\n",
       "       'Womens,Shoes,Sandals,NaturalSoul by naturalizer',\n",
       "       \"Womens,Womens Shoes,Clothing,Women's Shoes,Boys' Shoes,Boots,Lugz,All Womens Shoes,Shoes,All Women's Shoes\",\n",
       "       'Womens,Shoes,Boots,Lugz',\n",
       "       'Womens,Shoes,Pumps,Heels,Style Charles by Charles David',\n",
       "       'Womens,Shoes,Sandals,Style Charles by Charles David',\n",
       "       'Womens,Shoes,Pumps,Heels,NYLA', 'Womens,Shoes,Pumps,Heels,Corkys',\n",
       "       \"Clothing,Shoes,Womens Shoes,Womens Oxford & Loafers,Womens Oxfords,Women's Shoes,All Women's Shoes\",\n",
       "       \"Clothing,Shoes,Women's Shoes,All Women's Shoes,Boots,Mid-Calf Boots\",\n",
       "       \"Clothing,Shoes,Womens Shoes,Womens Comfort,Womens Comfort Boots & Booties,Women's Shoes,All Women's Shoes\",\n",
       "       \"Clothing,Shoes,Women's Shoes,All Women's Shoes,Women's Dress Shoes\",\n",
       "       \"Clothing,Shoes,Women's Shoes,Women's Dress Shoes,All Women's Shoes\",\n",
       "       \"Clothing,Shoes,Women's Shoes,Women's Dress Shoes,All Women's Shoes,Women's Wear to Work,Women\",\n",
       "       \"Clothing,Shoes,Baby & Kids Shoes,Girls' Boots,Women's Shoes,All Women's Shoes,Girls' Shoes\",\n",
       "       \"Clothing,Shoes,Men's Shoes,All Men's Shoes,Women's Slippers,Women's Shoes,All Women's Shoes\",\n",
       "       'Womens,Shoes,Oxfords,Easy Street',\n",
       "       'Womens,Shoes,Flats,Forever Collectibles',\n",
       "       \"Clothing,Shoes,Women's Shoes,Women's Sandals,Women's Dress Shoes,All Women's Shoes\",\n",
       "       'Womens,Shoes,Pumps,Heels,LifeStride',\n",
       "       'Womens,Shoes,Boots,Journee Collection',\n",
       "       'Womens,Shoes,Pumps,Heels,Journee Collection',\n",
       "       \"Womens,Shoes,Pumps,Heels,Journee Collection,Clothing,Women's Shoes,All Women's Shoes,Women's Boots\",\n",
       "       'Womens,Shoes,Sandals,LifeStride', 'Womens,Shoes,Loafers,Eastland',\n",
       "       \"Womens,Shoes,Boat Shoes,Eastland,All Men's Shoes,Men's Shoes,Clothing\",\n",
       "       \"Womens,Shoes,Clogs,Mules,Eastland,Women's Casual Shoes,Women's Shoes,Clothing\",\n",
       "       'Womens,Shoes,Boots,Eastland',\n",
       "       \"Womens,Shoes,Clogs,Mules,Eastland,Women's Casual Shoes,Clothing,Women's Shoes\",\n",
       "       'Womens,Shoes,Slippers',\n",
       "       'Womens,Shoes,Clogs,Mules,Dolce by Mojo Moxy',\n",
       "       'Womens,Shoes,Athletic Shoes,Sneakers,Under Armour',\n",
       "       'Womens,Shoes,Boots', 'Womens,Shoes,Flats', 'Shoes,Boots,Womens',\n",
       "       'Shoes,Boots,Koolaburra by UGG,Womens',\n",
       "       \"Womens,Shoes,Athletic Shoes,Sneakers,Skechers,Slip-ons,Women's Shoes,Clothing,All Women's Shoes\",\n",
       "       'Womens,Shoes,Athletic Shoes,Sneakers,Skechers',\n",
       "       'Womens,Shoes,Flats,Skechers',\n",
       "       'Womens,Shoes,Athletic Shoes,Sneakers,PUMA',\n",
       "       \"Womens,Shoes,Athletic Shoes,Sneakers,adidas,Clothing, Shoes & Accessories,Women's Shoes,Athletic\",\n",
       "       'Womens,Shoes,Athletic Shoes,Sneakers,adidas',\n",
       "       'Womens,Shoes,Athletic Shoes,Sneakers,New Balance',\n",
       "       \"Womens,Shoes,Athletic Shoes,Sneakers,Skechers,Clothing,Women's Shoes,Women's Casual Shoes\",\n",
       "       \"Womens,Shoes,Athletic Shoes,Sneakers,Skechers,Clothing,Women's Shoes,All Women's Shoes\",\n",
       "       \"Clothing,Shoes,Women's Shoes,All Women's Shoes,Womens,Athletic Shoes,Sneakers,Skechers\",\n",
       "       \"Womens,Shoes,Athletic Shoes,Sneakers,Skechers,Clothing,Women's Shoes,Women's Athletic Shoes\",\n",
       "       'Womens,Rampage', 'Womens,Shoes,Athletic Shoes,Sneakers,Vans',\n",
       "       'Womens,Shoes,Flats,Croft,Barrow', \"Womens,Shoes,Flats,Candie's\",\n",
       "       'Womens,Shoes,Flats,Simply Vera Vera Wang',\n",
       "       'Womens,Shoes,Pumps,Heels,Croft,Barrow',\n",
       "       \"Womens,Shoes,Boots,Candie's\", 'Womens,Shoes,Sandals,Apt. 9',\n",
       "       'Womens,Shoes,Clogs,Mules,Croft,Barrow',\n",
       "       'Womens,Shoes,Athletic Shoes,Sneakers,Jennifer Lopez',\n",
       "       'Womens,Shoes,Boots,Simply Vera Vera Wang',\n",
       "       'Womens,Shoes,Boat Shoes,Croft,Barrow',\n",
       "       \"Womens,Shoes,Pumps,Heels,Candie's\",\n",
       "       'Womens,Shoes,Pumps,Heels,LC Lauren Conrad',\n",
       "       'Womens,Shoes,Flats,Jennifer Lopez',\n",
       "       'Womens,Shoes,Boots,Croft,Barrow',\n",
       "       'Womens,Shoes,Loafers,Journee Collection',\n",
       "       'Womens,Shoes,Boots,SONOMA Goods for Life',\n",
       "       'Womens,Shoes,Loafers,SONOMA Goods for Life',\n",
       "       'Womens,Shoes,Pumps,Heels,Simply Vera Vera Wang',\n",
       "       \"Womens,Shoes,Sandals,LC Lauren Conrad,Clothing, Shoes & Accessories,Women's Shoes,Sandals & Flip Flops\",\n",
       "       'Womens,Shoes,Sandals,Croft,Barrow',\n",
       "       'Womens,Shoes,Flats,LC Lauren Conrad',\n",
       "       'Womens,Shoes,Sandals,SONOMA Goods for Life,Boots',\n",
       "       'Womens,Shoes,Athletic Shoes,Sneakers,Croft,Barrow',\n",
       "       'Womens,Shoes,Sandals,SONOMA Goods for Life',\n",
       "       'Womens,Shoes,Pumps,Heels,Apt. 9',\n",
       "       'Womens,Shoes,Clogs,Mules,Soft Style by Hush Puppies',\n",
       "       'Womens,Shoes,Boots,Apt. 9',\n",
       "       'Womens,Shoes,Athletic Shoes,Sneakers,Keds',\n",
       "       \"Clothing,Shoes,Women's Shoes,All Women's Shoes,Womens Shoes,Shop by Clothing Type,Boots,Cowboy Boots,Womens,Laredo,Women's Boots\",\n",
       "       'Womens,Shoes,Flats,Apt. 9', 'Womens,Shoes,Sandals,Rocky 4EurSole',\n",
       "       'Womens,Shoes,Flats,NaturalSoul by naturalizer',\n",
       "       'Womens,Shoes,Athletic Shoes,Sneakers,Ryka',\n",
       "       \"Womens,Shoes,Pumps,Heels,LifeStride,Clothing,Women's Shoes,Women's Dress Shoes\",\n",
       "       \"Womens,Shoes,Boots,Dr. Scholl's,Women's Shoes,Clothing,All Women's Shoes\",\n",
       "       'Womens,Shoes,Loafers,NaturalSoul by naturalizer',\n",
       "       'Womens,Shoes,Flats,LifeStride', 'Womens,Shoes,Loafers,LifeStride',\n",
       "       \"Womens,Shoes,Flats,Dr. Scholl's\", 'Womens,Shoes,Boots,Ryka',\n",
       "       \"Womens,Shoes,Boots,Dr. Scholl's\",\n",
       "       \"Clothing,Shoes,Women's Shoes,All Women's Shoes,Womens,Athletic Shoes,Sneakers,Ryka\",\n",
       "       \"Womens,Shoes,Athletic Shoes,Sneakers,Dr. Scholl's,Clothing,Women's Shoes,All Women's Shoes\",\n",
       "       \"Womens,Shoes,Athletic Shoes,Sneakers,Ryka,Clothing,Women's Shoes,Women's Casual Shoes\",\n",
       "       \"Clothing,Shoes,Women's Shoes,Women's Dress Shoes,Womens,Sandals,LifeStride\",\n",
       "       \"Womens,Shoes,Sandals,Ryka,Clothing,Women's Shoes,All Women's Shoes\",\n",
       "       \"Womens,Shoes,Sandals,LifeStride,Clothing,Women's Shoes,All Women's Shoes\",\n",
       "       \"Clothing,Shoes,Women's Shoes,All Women's Shoes,Womens,Sandals,LifeStride\",\n",
       "       'Womens,Shoes,Pumps,Heels,NaturalSoul by naturalizer',\n",
       "       'Womens,Shoes,Sandals,Ryka',\n",
       "       'Womens,Shoes,Athletic Shoes,Sneakers,NaturalSoul by naturalizer',\n",
       "       \"Womens,Shoes,Pumps,Heels,LifeStride,Clothing,Women's Shoes,Women's Dress Shoes,All Women's Shoes\",\n",
       "       \"Clothing,Shoes,Women's Shoes,Women's Dress Shoes,Womens,Oxfords,Fergalicious\",\n",
       "       \"Womens,Shoes,Athletic Shoes,Sneakers,FILA,Women's Shoes,Clothing,All Women's Shoes\",\n",
       "       'Womens,Shoes,Pumps,Heels,A2 by Aerosoles',\n",
       "       'Womens,Shoes,Boots,A2 by Aerosoles',\n",
       "       \"Womens,Shoes,Pumps,Heels,A2 by Aerosoles,Women's Shoes,Flats,Comfort\",\n",
       "       \"Womens,Shoes,Sandals,A2 by Aerosoles,Clothing,Women's Shoes,All Women's Shoes\",\n",
       "       'Womens,Shoes,Sandals,A2 by Aerosoles',\n",
       "       'Womens,Shoes,Loafers,A2 by Aerosoles',\n",
       "       'Womens,Shoes,Clogs,Mules,A2 by Aerosoles',\n",
       "       'Womens,Shoes,Flats,A2 by Aerosoles',\n",
       "       'Womens,Shoes,Clogs,Mules,Style Charles by Charles David',\n",
       "       'Womens,Shoes,Boots,Style Charles by Charles David',\n",
       "       'Womens,Shoes,Flats,Style Charles by Charles David',\n",
       "       'Womens,Shoes,Boots,Henry Ferrera',\n",
       "       \"Womens,Shoes,Athletic Shoes,Sneakers,FILA,Clothing,Women's Shoes,All Women's Shoes\",\n",
       "       'Womens,Shoes,Sandals,Soft Style by Hush Puppies',\n",
       "       'Womens,Shoes,Sandals,Andrew Geller',\n",
       "       'Womens,Shoes,Athletic Shoes,Sneakers,Nike',\n",
       "       \"Womens,Shoes,Clogs,Mules,Spring Step,Clothing,Women's Shoes,All Women's Shoes\",\n",
       "       \"Womens,Shoes,Clogs,Mules,Spring Step,Clothing,Men's Shoes,Men's Casual Shoes,Other Slip-Ons\",\n",
       "       'Womens,Shoes,Sandals,Spring Step',\n",
       "       \"Womens,Shoes,Sandals,Spring Step,Clothing,Women's Shoes,All Women's Shoes,Low Slide Sandals\",\n",
       "       'Womens,Shoes,Flats,Seven7', 'Womens,Shoes,Sandals,Seven7',\n",
       "       \"Womens,Shoes,Boots,Journee Collection,Clothing,Women's Shoes,All Women's Shoes\",\n",
       "       \"Womens,Shoes,Pumps,Heels,Journee Collection,Clothing,Women's Shoes,Women's Dress Shoes,All Women's Shoes\",\n",
       "       \"Clothing,Shoes,Women's Shoes,Women's Dress Shoes,Womens,Pumps,Heels,Journee Collection,All Women's Shoes\",\n",
       "       'Womens,Shoes,Flats,Journee Collection',\n",
       "       \"Womens,Shoes,Boots,Journee Collection,Clothing,Women's Shoes,Women's Boots,Heels\",\n",
       "       'Womens,Shoes,Sandals,Journee Collection',\n",
       "       'Womens,Shoes,Clogs,Mules,Journee Collection',\n",
       "       'Womens,Shoes,Boots,madden NYC',\n",
       "       'Womens,Shoes,Pumps,Heels,madden NYC',\n",
       "       'Womens,Shoes,Sandals,madden NYC',\n",
       "       \"Womens,Shoes,Athletic Shoes,Sneakers,Nike,Clothing,Women's Shoes,Women's Casual Shoes,Women's Athletic Shoes\",\n",
       "       \"Womens,Shoes,Athletic Shoes,Sneakers,Nike,Clothing,Women's Shoes,Women's Casual Shoes\",\n",
       "       \"Clothing,Shoes,Women's Shoes,Women's Dress Shoes,Womens,Pumps,Heels,Easy Street,All Women's Shoes\",\n",
       "       \"Womens,Shoes,Clogs,Mules,Easy Street,Women's Shoes,Clothing,All Women's Shoes\",\n",
       "       'Womens,Shoes,Clogs,Mules,Easy Street',\n",
       "       \"Womens,Shoes,Pumps,Heels,Easy Street,Clothing,Women's Shoes,All Women's Shoes\",\n",
       "       \"Clothing,Shoes,Women's Shoes,All Women's Shoes,Womens,Athletic Shoes,Sneakers,Nike,Women's Athletic Shoes\",\n",
       "       \"Clothing,Shoes,Women's Shoes,All Women's Shoes,Womens,Athletic Shoes,Sneakers,Nike\",\n",
       "       \"Clothing,Shoes,Women's Shoes,All Women's Shoes,Womens,Athletic Shoes,Sneakers,Nike,Women's Casual Shoes\",\n",
       "       \"Clothing,Shoes,Women's Shoes,All Women's Shoes,Womens Shoes,Womens Sandals & Flip Flops,Womens Sport Sandals,Womens,Sandals,Nike\",\n",
       "       'Womens,Shoes,Sandals,Betula by Birkenstock',\n",
       "       'Womens,Shoes,Boots,Kisses by 2 Lips Too',\n",
       "       'Womens,Shoes,Pumps,Heels,2 Lips Too',\n",
       "       'Womens,Shoes,Boots,2 Lips Too',\n",
       "       \"Womens,Shoes,Athletic Shoes,Sneakers,Nike,Clothing,Men's Shoes,Men's Athletic Shoes\",\n",
       "       'Womens,Shoes,Athletic Shoes,Sneakers,madden NYC',\n",
       "       'Womens,Shoes,Sandals,REEF', 'Womens,Shoes,Flats,Unionbay',\n",
       "       'Womens,Shoes,Clogs,Mules,Unionbay',\n",
       "       \"Womens,Shoes,Athletic Shoes,Sneakers,K-Swiss,Clothing,Women's Shoes,Women's Casual Shoes\",\n",
       "       'Womens,Shoes,Boots,sugar', 'Womens,Shoes,Pumps,Heels,Rampage',\n",
       "       \"Clothing,Shoes,Womens Shoes,Womens Casual Shoes,Women's Shoes,Women's Casual Shoes,Womens,Athletic Shoes,Sneakers,Skechers,All Women's Shoes\",\n",
       "       'Womens,Shoes,Loafers,Clarks',\n",
       "       \"Womens,Shoes,Athletic Shoes,Sneakers,ASICS,Clothing,Women's Shoes,All Women's Shoes,Sporting Goods,Fitness, Running & Yoga,Women\",\n",
       "       'Womens,Shoes,Athletic Shoes,Sneakers,ASICS',\n",
       "       \"Womens,Shoes,Athletic Shoes,Sneakers,ASICS,Clothing,Women's Shoes,Women's Casual Shoes\",\n",
       "       'Womens,Shoes,Flats,Spring Step',\n",
       "       \"Womens,Shoes,Flats,Spring Step,Clothing,Women's Shoes,All Women's Shoes\",\n",
       "       'Womens,Shoes,Pumps,Heels,Easy Street',\n",
       "       \"Womens,Shoes,Athletic Shoes,Sneakers,Easy Street,Clothing,Women's Shoes,All Women's Shoes\",\n",
       "       'Womens,Shoes,Loafers,Easy Street',\n",
       "       'Womens,Shoes,Sandals,Easy Street',\n",
       "       \"Womens,Shoes,Sandals,Easy Street,Clothing,Women's Shoes,All Women's Shoes\",\n",
       "       \"Womens,Shoes,Sandals,Easy Street,Women's Shoes,Clothing,All Women's Shoes\",\n",
       "       'Womens,Shoes,Sandals,New Balance',\n",
       "       \"Women's Trail Running Shoes,Women's Footwear,Women's Running Shoes\",\n",
       "       \"Women's Road Running Shoes,Women's Footwear,Women's Running Shoes\",\n",
       "       \"Women's Casual Boots & Shoes,Women's Casual Shoes,Women's Footwear\",\n",
       "       \"Women's Red Wing Shoes,Women's Clothing,Women's Shoes\",\n",
       "       \"Women's Clothing,Women's Shoes,Women's Red Wing Shoes\",\n",
       "       \"Women's Clothing,Women's Shoes,Women's New Balance Shoes\",\n",
       "       \"Women's Footwear,Women's Running Shoes,Women's Trail Running Shoes\",\n",
       "       \"Women's Footwear,Women's Running Shoes,Women's Road Running Shoes\",\n",
       "       \"Women's Footwear,Women's Casual Boots & Shoes,Women's Casual Shoes\"],\n",
       "      dtype=object)"
      ]
     },
     "execution_count": 34,
     "metadata": {},
     "output_type": "execute_result"
    }
   ],
   "source": [
    "data['categories'].unique()"
   ]
  },
  {
   "cell_type": "code",
   "execution_count": 36,
   "metadata": {},
   "outputs": [
    {
     "data": {
      "text/plain": [
       "array(['Shoes', 'Shoes,Shoes'], dtype=object)"
      ]
     },
     "execution_count": 36,
     "metadata": {},
     "output_type": "execute_result"
    }
   ],
   "source": [
    "data['primaryCategories'].unique()"
   ]
  },
  {
   "cell_type": "code",
   "execution_count": 37,
   "metadata": {},
   "outputs": [
    {
     "data": {
      "text/plain": [
       "array(['USD'], dtype=object)"
      ]
     },
     "execution_count": 37,
     "metadata": {},
     "output_type": "execute_result"
    }
   ],
   "source": [
    "data['prices.currency'].unique()"
   ]
  },
  {
   "cell_type": "code",
   "execution_count": 38,
   "metadata": {},
   "outputs": [
    {
     "data": {
      "text/plain": [
       "array([False,  True])"
      ]
     },
     "execution_count": 38,
     "metadata": {},
     "output_type": "execute_result"
    }
   ],
   "source": [
    "data['prices.isSale'].unique()"
   ]
  },
  {
   "cell_type": "code",
   "execution_count": 43,
   "metadata": {},
   "outputs": [
    {
     "data": {
      "text/plain": [
       "count    10000.000000\n",
       "mean        51.131209\n",
       "std         21.267446\n",
       "min          4.880000\n",
       "25%         37.490000\n",
       "50%         49.990000\n",
       "75%         59.990000\n",
       "max        359.950000\n",
       "Name: prices.amountMin, dtype: float64"
      ]
     },
     "execution_count": 43,
     "metadata": {},
     "output_type": "execute_result"
    }
   ],
   "source": [
    "new_data['prices.amountMin'].describe()"
   ]
  },
  {
   "cell_type": "code",
   "execution_count": 112,
   "metadata": {},
   "outputs": [
    {
     "name": "stderr",
     "output_type": "stream",
     "text": [
      "/home/aruna/.local/lib/python3.6/site-packages/ipykernel_launcher.py:3: SettingWithCopyWarning: \n",
      "A value is trying to be set on a copy of a slice from a DataFrame.\n",
      "Try using .loc[row_indexer,col_indexer] = value instead\n",
      "\n",
      "See the caveats in the documentation: http://pandas.pydata.org/pandas-docs/stable/indexing.html#indexing-view-versus-copy\n",
      "  This is separate from the ipykernel package so we can avoid doing imports until\n"
     ]
    }
   ],
   "source": [
    "columns_name = ['brand', 'categories', 'prices.amountMax', 'prices.amountMin', 'prices.color', 'prices.size','prices.isSale']\n",
    "new_data = data[columns_name]\n",
    "new_data['brand'] = new_data['brand'].str.lower()"
   ]
  },
  {
   "cell_type": "code",
   "execution_count": 118,
   "metadata": {},
   "outputs": [
    {
     "name": "stderr",
     "output_type": "stream",
     "text": [
      "/home/aruna/.local/lib/python3.6/site-packages/ipykernel_launcher.py:1: SettingWithCopyWarning: \n",
      "A value is trying to be set on a copy of a slice from a DataFrame.\n",
      "Try using .loc[row_indexer,col_indexer] = value instead\n",
      "\n",
      "See the caveats in the documentation: http://pandas.pydata.org/pandas-docs/stable/indexing.html#indexing-view-versus-copy\n",
      "  \"\"\"Entry point for launching an IPython kernel.\n"
     ]
    }
   ],
   "source": [
    "new_data['price'] = (new_data['prices.amountMax']+new_data['prices.amountMin'])/2"
   ]
  },
  {
   "cell_type": "code",
   "execution_count": 119,
   "metadata": {},
   "outputs": [
    {
     "data": {
      "text/plain": [
       "array(['brand', 'categories', 'prices.amountMax', 'prices.amountMin',\n",
       "       'prices.color', 'prices.size', 'prices.isSale', 'price'],\n",
       "      dtype=object)"
      ]
     },
     "execution_count": 119,
     "metadata": {},
     "output_type": "execute_result"
    }
   ],
   "source": [
    "new_data.columns.values"
   ]
  },
  {
   "cell_type": "code",
   "execution_count": 120,
   "metadata": {},
   "outputs": [
    {
     "data": {
      "text/html": [
       "<div>\n",
       "<style scoped>\n",
       "    .dataframe tbody tr th:only-of-type {\n",
       "        vertical-align: middle;\n",
       "    }\n",
       "\n",
       "    .dataframe tbody tr th {\n",
       "        vertical-align: top;\n",
       "    }\n",
       "\n",
       "    .dataframe thead th {\n",
       "        text-align: right;\n",
       "    }\n",
       "</style>\n",
       "<table border=\"1\" class=\"dataframe\">\n",
       "  <thead>\n",
       "    <tr style=\"text-align: right;\">\n",
       "      <th></th>\n",
       "      <th>brand</th>\n",
       "      <th>categories</th>\n",
       "      <th>prices.amountMax</th>\n",
       "      <th>prices.amountMin</th>\n",
       "      <th>prices.color</th>\n",
       "      <th>prices.size</th>\n",
       "      <th>prices.isSale</th>\n",
       "      <th>price</th>\n",
       "    </tr>\n",
       "  </thead>\n",
       "  <tbody>\n",
       "    <tr>\n",
       "      <th>0</th>\n",
       "      <td>naturalizer</td>\n",
       "      <td>Clothing,Shoes,Women's Shoes,All Women's Shoes...</td>\n",
       "      <td>55.99</td>\n",
       "      <td>55.99</td>\n",
       "      <td>UWomens  M Regular</td>\n",
       "      <td>S</td>\n",
       "      <td>False</td>\n",
       "      <td>55.990</td>\n",
       "    </tr>\n",
       "    <tr>\n",
       "      <th>1</th>\n",
       "      <td>muk luks</td>\n",
       "      <td>Clothing,Shoes,Women's Shoes,Women's Casual Sh...</td>\n",
       "      <td>47.00</td>\n",
       "      <td>35.25</td>\n",
       "      <td>Grey</td>\n",
       "      <td>6</td>\n",
       "      <td>True</td>\n",
       "      <td>41.125</td>\n",
       "    </tr>\n",
       "    <tr>\n",
       "      <th>2</th>\n",
       "      <td>muk luks</td>\n",
       "      <td>Clothing,Shoes,Women's Shoes,Women's Casual Sh...</td>\n",
       "      <td>35.25</td>\n",
       "      <td>35.25</td>\n",
       "      <td>Grey</td>\n",
       "      <td>6</td>\n",
       "      <td>False</td>\n",
       "      <td>35.250</td>\n",
       "    </tr>\n",
       "    <tr>\n",
       "      <th>3</th>\n",
       "      <td>muk luks</td>\n",
       "      <td>Clothing,Shoes,Women's Shoes,All Women's Shoes...</td>\n",
       "      <td>24.75</td>\n",
       "      <td>24.75</td>\n",
       "      <td>Black</td>\n",
       "      <td>6</td>\n",
       "      <td>False</td>\n",
       "      <td>24.750</td>\n",
       "    </tr>\n",
       "    <tr>\n",
       "      <th>4</th>\n",
       "      <td>muk luks</td>\n",
       "      <td>Clothing,Shoes,Women's Shoes,All Women's Shoes...</td>\n",
       "      <td>33.00</td>\n",
       "      <td>30.39</td>\n",
       "      <td>Grey</td>\n",
       "      <td>6</td>\n",
       "      <td>True</td>\n",
       "      <td>31.695</td>\n",
       "    </tr>\n",
       "  </tbody>\n",
       "</table>\n",
       "</div>"
      ],
      "text/plain": [
       "         brand                                         categories  \\\n",
       "0  naturalizer  Clothing,Shoes,Women's Shoes,All Women's Shoes...   \n",
       "1     muk luks  Clothing,Shoes,Women's Shoes,Women's Casual Sh...   \n",
       "2     muk luks  Clothing,Shoes,Women's Shoes,Women's Casual Sh...   \n",
       "3     muk luks  Clothing,Shoes,Women's Shoes,All Women's Shoes...   \n",
       "4     muk luks  Clothing,Shoes,Women's Shoes,All Women's Shoes...   \n",
       "\n",
       "   prices.amountMax  prices.amountMin        prices.color prices.size  \\\n",
       "0             55.99             55.99  UWomens  M Regular           S   \n",
       "1             47.00             35.25                Grey           6   \n",
       "2             35.25             35.25                Grey           6   \n",
       "3             24.75             24.75               Black           6   \n",
       "4             33.00             30.39                Grey           6   \n",
       "\n",
       "   prices.isSale   price  \n",
       "0          False  55.990  \n",
       "1           True  41.125  \n",
       "2          False  35.250  \n",
       "3          False  24.750  \n",
       "4           True  31.695  "
      ]
     },
     "execution_count": 120,
     "metadata": {},
     "output_type": "execute_result"
    }
   ],
   "source": [
    "new_data.head()"
   ]
  },
  {
   "cell_type": "code",
   "execution_count": 123,
   "metadata": {},
   "outputs": [],
   "source": [
    "Brand_df = new_data[['brand', 'price']].dropna()\n",
    "Colors_df = new_data[[\"prices.color\", \"price\"]].dropna()\n",
    "Size_df = new_data[[\"prices.size\", \"price\"]].dropna()\n",
    "NoNull_df = new_data.dropna()"
   ]
  },
  {
   "cell_type": "code",
   "execution_count": 50,
   "metadata": {},
   "outputs": [
    {
     "data": {
      "text/plain": [
       "['journee collection',\n",
       " 'lifestride',\n",
       " 'a2 by aerosoles',\n",
       " 'easy street',\n",
       " 'style charles by charles david',\n",
       " 'so',\n",
       " 'dr. scholls',\n",
       " 'croft barrow',\n",
       " 'nike',\n",
       " 'new balance',\n",
       " 'sonoma goods for life',\n",
       " 'skechers',\n",
       " 'apt. 9',\n",
       " 'Nike',\n",
       " 'simply vera vera wang',\n",
       " 'SKECHERS',\n",
       " 'candies',\n",
       " 'Lifestride',\n",
       " 'ryka',\n",
       " 'asics',\n",
       " 'naturalsoul by naturalizer',\n",
       " 'madden nyc',\n",
       " 'spring step',\n",
       " 'adidas',\n",
       " 'lc lauren conrad',\n",
       " 'dolce by mojo moxy',\n",
       " 'eastland',\n",
       " 'unionbay']"
      ]
     },
     "execution_count": 50,
     "metadata": {},
     "output_type": "execute_result"
    }
   ],
   "source": [
    "brand = data['brand'].value_counts()[data['brand'].value_counts() > 50]\n",
    "brand_names = list(pd.DataFrame(brand).index)\n",
    "brand_names"
   ]
  },
  {
   "cell_type": "code",
   "execution_count": null,
   "metadata": {},
   "outputs": [],
   "source": []
  },
  {
   "cell_type": "code",
   "execution_count": 126,
   "metadata": {},
   "outputs": [
    {
     "data": {
      "text/plain": [
       "brand\n",
       "lc lauren conrad                  38.812101\n",
       "apt. 9                            40.270738\n",
       "unionbay                          40.894545\n",
       "so                                42.964514\n",
       "candies                           44.685312\n",
       "madden nyc                        45.874821\n",
       "croft barrow                      50.172524\n",
       "sonoma goods for life             50.639563\n",
       "lifestride                        52.113258\n",
       "dolce by mojo moxy                52.173190\n",
       "easy street                       52.286368\n",
       "simply vera vera wang             55.242744\n",
       "skechers                          61.190610\n",
       "naturalsoul by naturalizer        61.426682\n",
       "journee collection                61.831748\n",
       "a2 by aerosoles                   62.286866\n",
       "spring step                       62.774810\n",
       "new balance                       64.531423\n",
       "ryka                              65.067415\n",
       "dr. scholls                       66.297804\n",
       "nike                              67.904526\n",
       "adidas                            73.650947\n",
       "style charles by charles david    74.618054\n",
       "asics                             81.615038\n",
       "eastland                          86.119018\n",
       "Name: price, dtype: float64"
      ]
     },
     "execution_count": 126,
     "metadata": {},
     "output_type": "execute_result"
    }
   ],
   "source": [
    "data_brand = new_data[new_data['brand'].isin(brand_names)]\n",
    "data_brand_ave = data_brand.groupby('brand')['price'].mean().sort_values(ascending=True)\n",
    "data_brand_ave"
   ]
  },
  {
   "cell_type": "code",
   "execution_count": null,
   "metadata": {},
   "outputs": [],
   "source": []
  }
 ],
 "metadata": {
  "kernelspec": {
   "display_name": "Python 3",
   "language": "python",
   "name": "python3"
  },
  "language_info": {
   "codemirror_mode": {
    "name": "ipython",
    "version": 3
   },
   "file_extension": ".py",
   "mimetype": "text/x-python",
   "name": "python",
   "nbconvert_exporter": "python",
   "pygments_lexer": "ipython3",
   "version": "3.6.7"
  }
 },
 "nbformat": 4,
 "nbformat_minor": 2
}
